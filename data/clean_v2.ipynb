{
 "cells": [
  {
   "cell_type": "code",
   "execution_count": 1,
   "metadata": {},
   "outputs": [],
   "source": [
    "import pandas as pd\n",
    "import numpy as np\n",
    "import matplotlib.pyplot as plt\n",
    "import seaborn as sns\n",
    "from sklearn.preprocessing import StandardScaler\n",
    "\n"
   ]
  },
  {
   "cell_type": "code",
   "execution_count": 8,
   "metadata": {},
   "outputs": [
    {
     "name": "stderr",
     "output_type": "stream",
     "text": [
      "/var/folders/1v/zqgzfb4146nbxm3jjv2r_p9m0000gp/T/ipykernel_95947/580416763.py:22: DtypeWarning: Columns (0,1,3,4,5,6,7,8,9,10,11,12,13,14,15,16) have mixed types. Specify dtype option on import or set low_memory=False.\n",
      "  data = pd.read_csv(\"v2.csv\")\n"
     ]
    }
   ],
   "source": [
    "#load data \n",
    "dtype = {\n",
    "        'tripID': int,\n",
    "        'deviceID': float,\n",
    "        'timeStamp': str,\n",
    "        'accData': str,\n",
    "        'gps_speed': float,\n",
    "        'battery': float,\n",
    "        'cTemp': float,\n",
    "        'dtc': float,\n",
    "        'eLoad': float,\n",
    "        'iat': float,\n",
    "        'imap': float,\n",
    "        'kpl': float,\n",
    "        'maf': float,\n",
    "        'rpm': float,\n",
    "        'speed': float,\n",
    "        'tAdv': float,\n",
    "        'tPos': float\n",
    "    }\n",
    "# Load the data\n",
    "data = pd.read_csv(\"v2.csv\")\n",
    "\n",
    "# Convert each column to the correct data type\n",
    "for col in data.columns:\n",
    "    if col in dtype:\n",
    "        data[col] = pd.to_numeric(data[col], errors='coerce') if dtype[col] in [int, float] else data[col].astype(dtype[col])\n"
   ]
  },
  {
   "cell_type": "code",
   "execution_count": 9,
   "metadata": {},
   "outputs": [
    {
     "name": "stdout",
     "output_type": "stream",
     "text": [
      "<class 'pandas.core.frame.DataFrame'>\n",
      "RangeIndex: 3120272 entries, 0 to 3120271\n",
      "Data columns (total 17 columns):\n",
      " #   Column     Dtype  \n",
      "---  ------     -----  \n",
      " 0   tripID     float64\n",
      " 1   deviceID   float64\n",
      " 2   timeStamp  object \n",
      " 3   accData    object \n",
      " 4   gps_speed  float64\n",
      " 5   battery    float64\n",
      " 6   cTemp      float64\n",
      " 7   dtc        float64\n",
      " 8   eLoad      float64\n",
      " 9   iat        float64\n",
      " 10  imap       float64\n",
      " 11  kpl        float64\n",
      " 12  maf        float64\n",
      " 13  rpm        float64\n",
      " 14  speed      float64\n",
      " 15  tAdv       float64\n",
      " 16  tPos       float64\n",
      "dtypes: float64(15), object(2)\n",
      "memory usage: 404.7+ MB\n"
     ]
    }
   ],
   "source": [
    "data.info()"
   ]
  },
  {
   "cell_type": "code",
   "execution_count": 13,
   "metadata": {},
   "outputs": [],
   "source": [
    "\n",
    "# Convert timestamp to datetime object, coercing errors to NaT\n",
    "data['timeStamp'] = pd.to_datetime(data['timeStamp'], errors='coerce')\n",
    "\n",
    "#and convert accData to string\n",
    "data['accData'] = data['accData'].astype(str)\n"
   ]
  },
  {
   "cell_type": "code",
   "execution_count": 14,
   "metadata": {},
   "outputs": [
    {
     "name": "stdout",
     "output_type": "stream",
     "text": [
      "<class 'pandas.core.frame.DataFrame'>\n",
      "RangeIndex: 3120272 entries, 0 to 3120271\n",
      "Data columns (total 17 columns):\n",
      " #   Column     Dtype         \n",
      "---  ------     -----         \n",
      " 0   tripID     float64       \n",
      " 1   deviceID   float64       \n",
      " 2   timeStamp  datetime64[ns]\n",
      " 3   accData    object        \n",
      " 4   gps_speed  float64       \n",
      " 5   battery    float64       \n",
      " 6   cTemp      float64       \n",
      " 7   dtc        float64       \n",
      " 8   eLoad      float64       \n",
      " 9   iat        float64       \n",
      " 10  imap       float64       \n",
      " 11  kpl        float64       \n",
      " 12  maf        float64       \n",
      " 13  rpm        float64       \n",
      " 14  speed      float64       \n",
      " 15  tAdv       float64       \n",
      " 16  tPos       float64       \n",
      "dtypes: datetime64[ns](1), float64(15), object(1)\n",
      "memory usage: 404.7+ MB\n"
     ]
    }
   ],
   "source": [
    "data.info()"
   ]
  },
  {
   "cell_type": "code",
   "execution_count": 15,
   "metadata": {},
   "outputs": [],
   "source": [
    "#drop accData column\n",
    "data = data.drop('accData', axis=1)\n"
   ]
  },
  {
   "cell_type": "code",
   "execution_count": 16,
   "metadata": {},
   "outputs": [
    {
     "name": "stdout",
     "output_type": "stream",
     "text": [
      "<class 'pandas.core.frame.DataFrame'>\n",
      "RangeIndex: 3120272 entries, 0 to 3120271\n",
      "Data columns (total 16 columns):\n",
      " #   Column     Dtype         \n",
      "---  ------     -----         \n",
      " 0   tripID     float64       \n",
      " 1   deviceID   float64       \n",
      " 2   timeStamp  datetime64[ns]\n",
      " 3   gps_speed  float64       \n",
      " 4   battery    float64       \n",
      " 5   cTemp      float64       \n",
      " 6   dtc        float64       \n",
      " 7   eLoad      float64       \n",
      " 8   iat        float64       \n",
      " 9   imap       float64       \n",
      " 10  kpl        float64       \n",
      " 11  maf        float64       \n",
      " 12  rpm        float64       \n",
      " 13  speed      float64       \n",
      " 14  tAdv       float64       \n",
      " 15  tPos       float64       \n",
      "dtypes: datetime64[ns](1), float64(15)\n",
      "memory usage: 380.9 MB\n"
     ]
    }
   ],
   "source": [
    "data.info()"
   ]
  },
  {
   "cell_type": "code",
   "execution_count": 17,
   "metadata": {},
   "outputs": [],
   "source": [
    "#now save the data\n",
    "data.to_csv(\"v2_clean.csv\", index=False)"
   ]
  },
  {
   "cell_type": "code",
   "execution_count": 18,
   "metadata": {},
   "outputs": [],
   "source": [
    "#save 100 rows of data as a 'test set'\n",
    "data.head(100).to_csv(\"test_set.csv\", index=False)"
   ]
  },
  {
   "cell_type": "code",
   "execution_count": null,
   "metadata": {},
   "outputs": [],
   "source": []
  }
 ],
 "metadata": {
  "kernelspec": {
   "display_name": "x43",
   "language": "python",
   "name": "python3"
  },
  "language_info": {
   "codemirror_mode": {
    "name": "ipython",
    "version": 3
   },
   "file_extension": ".py",
   "mimetype": "text/x-python",
   "name": "python",
   "nbconvert_exporter": "python",
   "pygments_lexer": "ipython3",
   "version": "3.11.5"
  }
 },
 "nbformat": 4,
 "nbformat_minor": 2
}
